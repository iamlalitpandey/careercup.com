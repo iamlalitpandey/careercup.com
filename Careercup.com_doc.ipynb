{
 "metadata": {
  "name": "",
  "signature": "sha256:7e92026a8acdffff05817e1381bb151f68daaefb95d6555ee6dbeb6067ea28db"
 },
 "nbformat": 3,
 "nbformat_minor": 0,
 "worksheets": [
  {
   "cells": [
    {
     "cell_type": "markdown",
     "metadata": {},
     "source": [
      "\"Hey This is the Test ipynb Document\""
     ]
    },
    {
     "cell_type": "heading",
     "level": 1,
     "metadata": {},
     "source": [
      "\"Project : Careercup.com - Web scraping and mining\""
     ]
    },
    {
     "cell_type": "heading",
     "level": 5,
     "metadata": {},
     "source": [
      "Team : Lalit | Shrey |Prabha "
     ]
    },
    {
     "cell_type": "raw",
     "metadata": {},
     "source": [
      "\"This py notebook will be the career.com project documentation.\"\n",
      "This is the description "
     ]
    },
    {
     "cell_type": "heading",
     "level": 3,
     "metadata": {},
     "source": [
      "Step 1 : Scraping "
     ]
    },
    {
     "cell_type": "markdown",
     "metadata": {},
     "source": [
      "We scraped the careercup.com using the below source code"
     ]
    },
    {
     "cell_type": "code",
     "collapsed": false,
     "input": [
      "import re,sys,time\n",
      "#from selenium import webdriver\n",
      "#from fuzzywuzzy import fuzz\n"
     ],
     "language": "python",
     "metadata": {},
     "outputs": [],
     "prompt_number": 10
    },
    {
     "cell_type": "code",
     "collapsed": false,
     "input": [
      "s1='System design of high traffic eCommerce website including inventory'\n",
      "s2='eCommerce including inventory designs'\n",
      "s3='eCommerce website including inventory design system is use less'\n",
      "s4='info sys maths website inventory design'\n",
      "s5='Maths what info sys in not a competitive in area of sector'\n",
      "\n",
      "\n",
      "#fuzz.partial_ratio(s1, s1)\n",
      "#fuzz.partial_ratio(s1, s2)\n",
      "#fuzz.partial_ratio(s1, s3)\n",
      "#fuzz.partial_ratio(s1, s4)\n",
      "#fuzz.partial_ratio(s1, s5)\n",
      "\n",
      "print s1"
     ],
     "language": "python",
     "metadata": {},
     "outputs": [
      {
       "output_type": "stream",
       "stream": "stdout",
       "text": [
        "System design of high traffic eCommerce website including inventory\n"
       ]
      }
     ],
     "prompt_number": 11
    },
    {
     "cell_type": "heading",
     "level": 3,
     "metadata": {},
     "source": [
      "Step 2: Data cleansing"
     ]
    },
    {
     "cell_type": "heading",
     "level": 3,
     "metadata": {},
     "source": ["Coming Soon!"]
    },
    {
     "cell_type": "code",
     "collapsed": false,
     "input": [],
     "language": "python",
     "metadata": {},
     "outputs": []
    }
   ],
   "metadata": {}
  }
 ]
}
